{
 "cells": [
  {
   "cell_type": "code",
   "execution_count": 1,
   "metadata": {},
   "outputs": [],
   "source": [
    "def list_comu (llista1, llista2):\n",
    "    comuns1 = set(llista1)\n",
    "    comuns2 = set(llista2)\n",
    "    \n",
    "    comuns = comuns1.intersection(comuns2)\n",
    "    \n",
    "    if comuns:\n",
    "        print(\"Els elements en comú són:\")\n",
    "        for numero in comuns:\n",
    "            print(numero)"
   ]
  },
  {
   "cell_type": "code",
   "execution_count": 2,
   "metadata": {},
   "outputs": [
    {
     "name": "stdout",
     "output_type": "stream",
     "text": [
      "Els elements en comú són:\n",
      "3\n",
      "4\n",
      "5\n"
     ]
    }
   ],
   "source": [
    "llista1 = [1, 2, 3, 4, 5]\n",
    "llista2 = [3, 4, 5, 6, 7]\n",
    "list_comu(llista1, llista2)"
   ]
  },
  {
   "cell_type": "code",
   "execution_count": 14,
   "metadata": {},
   "outputs": [],
   "source": [
    "def factorial(num):\n",
    "    if num < 0:\n",
    "        return \"El factorial no està definit per a números negatius.\"\n",
    "    elif num == 0 or num == 1:\n",
    "        return 1\n",
    "    else:\n",
    "        fact = 1\n",
    "        for numero in range(2, num + 1):\n",
    "            fact *= numero\n",
    "        return print(f\"El factorial de {numero} és {fact}\")"
   ]
  },
  {
   "cell_type": "code",
   "execution_count": 15,
   "metadata": {},
   "outputs": [
    {
     "name": "stdout",
     "output_type": "stream",
     "text": [
      "El factorial de 4 és 24\n"
     ]
    }
   ],
   "source": [
    "numero = 4\n",
    "resultat = factorial(numero)"
   ]
  },
  {
   "cell_type": "code",
   "execution_count": 2,
   "metadata": {},
   "outputs": [],
   "source": [
    "def mVocals(frase):\n",
    "    vocals = \"AEIOUaeiou\"\n",
    "    mod_frase = \"\"\n",
    "    \n",
    "    for char in frase:\n",
    "        if char in vocals:\n",
    "            mod_frase += \"*\"\n",
    "        else:\n",
    "            mod_frase += char\n",
    "    return mod_frase  "
   ]
  },
  {
   "cell_type": "code",
   "execution_count": 4,
   "metadata": {},
   "outputs": [
    {
     "name": "stdout",
     "output_type": "stream",
     "text": [
      "H*l* m* n*mbr* *s R*f*\n"
     ]
    }
   ],
   "source": [
    "frase = \"Hola mi nombre es Rafa\"\n",
    "mod = mVocals(frase)\n",
    "print(mod)"
   ]
  },
  {
   "cell_type": "code",
   "execution_count": 2,
   "metadata": {},
   "outputs": [
    {
     "name": "stdout",
     "output_type": "stream",
     "text": [
      "[1, 3, 4, 5, 7, 8, 9, 10]\n"
     ]
    }
   ],
   "source": [
    "def combina_llistes_ordenades(llista1, llista2):\n",
    "    return sorted(list(set(llista1 + llista2)))\n",
    "\n",
    "# Exemple d'ús\n",
    "llista1 = [1, 3, 5, 7, 9]\n",
    "llista2 = [3, 4, 5, 8, 10]\n",
    "resultat = combina_llistes_ordenades(llista1, llista2)\n",
    "print(resultat)"
   ]
  },
  {
   "cell_type": "code",
   "execution_count": 3,
   "metadata": {},
   "outputs": [],
   "source": [
    "def esPrimo (numero):\n",
    "    for prueba in range(2, int(numero**0.5)+1):\n",
    "        if numero % prueba == 0:\n",
    "            return False\n",
    "    return True"
   ]
  },
  {
   "cell_type": "code",
   "execution_count": 5,
   "metadata": {},
   "outputs": [
    {
     "data": {
      "text/plain": [
       "False"
      ]
     },
     "execution_count": 5,
     "metadata": {},
     "output_type": "execute_result"
    }
   ],
   "source": [
    "esPrimo(numero=4)"
   ]
  }
 ],
 "metadata": {
  "kernelspec": {
   "display_name": "Python 3",
   "language": "python",
   "name": "python3"
  },
  "language_info": {
   "codemirror_mode": {
    "name": "ipython",
    "version": 3
   },
   "file_extension": ".py",
   "mimetype": "text/x-python",
   "name": "python",
   "nbconvert_exporter": "python",
   "pygments_lexer": "ipython3",
   "version": "3.11.2"
  },
  "orig_nbformat": 4
 },
 "nbformat": 4,
 "nbformat_minor": 2
}
